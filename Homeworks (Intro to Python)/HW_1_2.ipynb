{
  "nbformat": 4,
  "nbformat_minor": 0,
  "metadata": {
    "colab": {
      "name": "HW_1_2.ipynb",
      "provenance": [],
      "collapsed_sections": []
    },
    "kernelspec": {
      "name": "python3",
      "display_name": "Python 3"
    }
  },
  "cells": [
    {
      "cell_type": "code",
      "metadata": {
        "colab": {
          "base_uri": "https://localhost:8080/"
        },
        "id": "yBopfIP9acME",
        "outputId": "9d3c6e0f-2d65-4f12-bd66-429a6dc168a3"
      },
      "source": [
        "n = int(input(\"Please enter a number: \"))\r\n",
        "\r\n",
        "result = 0\r\n",
        "\r\n",
        "for i in range(0, n+1):\r\n",
        "    if(i % 2 == 0):\r\n",
        "      print(i)"
      ],
      "execution_count": 17,
      "outputs": [
        {
          "output_type": "stream",
          "text": [
            "Please enter a number: 20\n",
            "0\n",
            "2\n",
            "4\n",
            "6\n",
            "8\n",
            "10\n",
            "12\n",
            "14\n",
            "16\n",
            "18\n",
            "20\n"
          ],
          "name": "stdout"
        }
      ]
    }
  ]
}
