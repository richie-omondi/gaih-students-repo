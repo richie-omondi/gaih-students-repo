{
  "nbformat": 4,
  "nbformat_minor": 0,
  "metadata": {
    "colab": {
      "name": "HW_4.ipynb",
      "provenance": [],
      "collapsed_sections": []
    },
    "kernelspec": {
      "name": "python3",
      "display_name": "Python 3"
    }
  },
  "cells": [
    {
      "cell_type": "code",
      "metadata": {
        "id": "x3NpJa1ftuVE"
      },
      "source": [
        "class Animal:\r\n",
        "    def __init__(self, name, age, colour, sex):\r\n",
        "        self.pet_name = name\r\n",
        "        self.pet_age = age\r\n",
        "        self.pet_colour = colour\r\n",
        "        self.sex = sex\r\n",
        "\r\n",
        "    def print_name(self):\r\n",
        "        print(self.pet_name)\r\n",
        "\r\n",
        "    def print_colour(self):\r\n",
        "        print(self.pet_name + \" is \" + self.pet_colour)\r\n",
        "\r\n",
        "    def print_sex(self):\r\n",
        "        print(self.pet_name + \" is \" + self.sex)\r\n",
        "        \r\n"
      ],
      "execution_count": 15,
      "outputs": []
    },
    {
      "cell_type": "code",
      "metadata": {
        "colab": {
          "base_uri": "https://localhost:8080/"
        },
        "id": "h_3JZt6YzZsY",
        "outputId": "81edb666-6740-4484-8965-e97d5d2daa24"
      },
      "source": [
        "class Cat(Animal):\r\n",
        "    pass\r\n",
        "\r\n",
        "cat = Cat(\"Minx\", \"7\", \"Brown\", \"male\")\r\n",
        "cat.print_colour()"
      ],
      "execution_count": 11,
      "outputs": [
        {
          "output_type": "stream",
          "text": [
            "Minx is Brown\n"
          ],
          "name": "stdout"
        }
      ]
    },
    {
      "cell_type": "code",
      "metadata": {
        "colab": {
          "base_uri": "https://localhost:8080/"
        },
        "id": "MFDoQXto09us",
        "outputId": "ed608f4d-bd7d-4b3d-da3a-a3c321e85c5d"
      },
      "source": [
        "class Dog(Animal):\r\n",
        "    pass\r\n",
        "\r\n",
        "dog = Dog(\"Ginger\", \"4\", \"Blonde\", \"female\")\r\n",
        "dog.print_sex()"
      ],
      "execution_count": 16,
      "outputs": [
        {
          "output_type": "stream",
          "text": [
            "Ginger is female\n"
          ],
          "name": "stdout"
        }
      ]
    }
  ]
}
