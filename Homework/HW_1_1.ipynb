{
  "nbformat": 4,
  "nbformat_minor": 0,
  "metadata": {
    "colab": {
      "name": "HW 1.jpynb",
      "provenance": [],
      "collapsed_sections": []
    },
    "kernelspec": {
      "name": "python3",
      "display_name": "Python 3"
    }
  },
  "cells": [
    {
      "cell_type": "code",
      "metadata": {
        "colab": {
          "base_uri": "https://localhost:8080/"
        },
        "id": "fUhGv0ecTGU7",
        "outputId": "bd0f3bf3-bd19-4efb-bd9b-7a4873797717"
      },
      "source": [
        "a = 23\r\n",
        "b = 43\r\n",
        "c = 12\r\n",
        "d = 1\r\n",
        "e = 67\r\n",
        "f = 69\r\n",
        "g = 11\r\n",
        "h = 77\r\n",
        "i = 17\r\n",
        "j = 45\r\n",
        "nums = a, b, c, d, e, f, g, h, i, j\r\n",
        "print(nums)\r\n",
        "a, b, c, d, e, f, g, h, i, j = f, g, h, i, j, a, b, c, d, e\r\n",
        "print(a, b, c, d, e, f, g, h, i, j)"
      ],
      "execution_count": 12,
      "outputs": [
        {
          "output_type": "stream",
          "text": [
            "(23, 43, 12, 1, 67, 69, 11, 77, 17, 45)\n",
            "69 11 77 17 45 23 43 12 1 67\n"
          ],
          "name": "stdout"
        }
      ]
    }
  ]
}