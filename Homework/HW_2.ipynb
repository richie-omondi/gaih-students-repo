{
  "nbformat": 4,
  "nbformat_minor": 0,
  "metadata": {
    "colab": {
      "name": "HW 2.ipynb",
      "provenance": [],
      "collapsed_sections": []
    },
    "kernelspec": {
      "name": "python3",
      "display_name": "Python 3"
    }
  },
  "cells": [
    {
      "cell_type": "code",
      "metadata": {
        "id": "zv8An7j1jkJ4"
      },
      "source": [
        ""
      ],
      "execution_count": null,
      "outputs": []
    },
    {
      "cell_type": "code",
      "metadata": {
        "id": "0RRyNh8aa359",
        "colab": {
          "base_uri": "https://localhost:8080/"
        },
        "outputId": "eeae3b67-b04e-4419-f69c-caad15456255"
      },
      "source": [
        "print(\"**************Login Page**************\")\n",
        "\n",
        "user_name = \"Vivian\"\n",
        "password =\"terriblePassword\"\n",
        "\n",
        "user_name1 =input(\"Please enter your user name\")\n",
        "\n",
        "password1= input(\"Please enter your password.\")\n",
        "\n",
        "if (user_name != user_name1 and password == password1):\n",
        "    print(\"Invalid user name\")\n",
        "elif (user_name==user_name1 and password != password1):\n",
        "    print(\"Invalid Password\")\n",
        "elif (user_name != user_name1 and password!= password1):\n",
        "    print(\"Invalid user name and password\")\n",
        "else:\n",
        "    print(\"You are now logged in...\")\n"
      ],
      "execution_count": 3,
      "outputs": [
        {
          "output_type": "stream",
          "text": [
            "**************Login Page**************\n",
            "Please enter your user nameVivian\n",
            "Please enter your password.terriblePassword\n",
            "You are now logged in...\n"
          ],
          "name": "stdout"
        }
      ]
    },
    {
      "cell_type": "code",
      "metadata": {
        "colab": {
          "base_uri": "https://localhost:8080/"
        },
        "id": "pAFTj8e5kRBE",
        "outputId": "e6518b08-fe78-4906-862a-6a04c6c803f2"
      },
      "source": [
        "print(\"**************Login Page**************\")\r\n",
        "\r\n",
        "my_username = {\"user_name\":\"Vivian\"}\r\n",
        "my_password = {\"password:terriblePassword\"}\r\n",
        "\r\n",
        "user_name1 =input(\"Please enter your user name\")\r\n",
        "\r\n",
        "password1= input(\"Please enter your password.\")\r\n",
        "\r\n",
        "if (user_name != user_name1 and password == password1):\r\n",
        "    print(\"Invalid user name\")\r\n",
        "elif (user_name==user_name1 and password != password1):\r\n",
        "    print(\"Invalid Password\")\r\n",
        "elif (user_name != user_name1 and password!= password1):\r\n",
        "    print(\"Invalid user name and password\")\r\n",
        "else:\r\n",
        "    print(\"You are now logged in...\")\r\n",
        "\r\n",
        "\r\n"
      ],
      "execution_count": 4,
      "outputs": [
        {
          "output_type": "stream",
          "text": [
            "**************Login Page**************\n",
            "Please enter your user nameVivian\n",
            "Please enter your password.terriblePassword\n",
            "You are now logged in...\n"
          ],
          "name": "stdout"
        }
      ]
    }
  ]
}