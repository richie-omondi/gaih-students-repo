{
  "nbformat": 4,
  "nbformat_minor": 0,
  "metadata": {
    "colab": {
      "name": "HW_3.ipynb",
      "provenance": []
    },
    "kernelspec": {
      "name": "python3",
      "display_name": "Python 3"
    }
  },
  "cells": [
    {
      "cell_type": "code",
      "metadata": {
        "id": "hv2oOmzIRlFQ"
      },
      "source": [
        "def prime(num):\r\n",
        "  for num in range (1, 101):\r\n",
        "    count = 0\r\n",
        "    for i in range(2, (num//2 + 1)):\r\n",
        "        if(num % i == 0):\r\n",
        "            count = count + 1\r\n",
        "            break\r\n",
        "\r\n",
        "    if (count == 0 and num != 1):\r\n",
        "        print(\" %d\" %num, end = '  ')\r\n"
      ],
      "execution_count": 24,
      "outputs": []
    },
    {
      "cell_type": "code",
      "metadata": {
        "colab": {
          "base_uri": "https://localhost:8080/"
        },
        "id": "_yF6nx2rgBYw",
        "outputId": "f9c94cee-dc8d-46e4-edf0-ba1278990341"
      },
      "source": [
        "prime()\r\n",
        "\r\n"
      ],
      "execution_count": 25,
      "outputs": [
        {
          "output_type": "stream",
          "text": [
            " 2   3   5   7   11   13   17   19   23   29   31   37   41   43   47   53   59   61   67   71   73   79   83   89   97  "
          ],
          "name": "stdout"
        }
      ]
    }
  ]
}