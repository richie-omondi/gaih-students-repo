{
  "nbformat": 4,
  "nbformat_minor": 0,
  "metadata": {
    "colab": {
      "name": "Final_Project.ipynb",
      "provenance": [],
      "collapsed_sections": []
    },
    "kernelspec": {
      "name": "python3",
      "display_name": "Python 3"
    }
  },
  "cells": [
    {
      "cell_type": "code",
      "metadata": {
        "id": "x_0-B-UQ6u5X"
      },
      "source": [
        "class Staff:\r\n",
        "    def __init__(self, name, lname, age, language):\r\n",
        "        self.first_name = name\r\n",
        "        self.last_name = lname\r\n",
        "        self.age = age\r\n",
        "        self.language = language\r\n",
        "\r\n",
        "    def print_name(self):\r\n",
        "        print(\"Staff member's name is\" + self.first_name + \" \" + self.last_name)\r\n",
        "    \r\n",
        "    def print_age(self):\r\n",
        "        print(self.first_name + \" \" + self.last_name + \" is \" + self.age + \" years old \")\r\n",
        "\r\n",
        "    def print_language(self):\r\n",
        "        print(self.first_name + \" \" + self.last_name + \" speaks \" + self.language)\r\n",
        "      "
      ],
      "execution_count": 14,
      "outputs": []
    },
    {
      "cell_type": "code",
      "metadata": {
        "colab": {
          "base_uri": "https://localhost:8080/"
        },
        "id": "oKqIO4BFBav7",
        "outputId": "874d7336-f67b-4d93-a653-2669a38679c1"
      },
      "source": [
        "class Manager(Staff):\r\n",
        "    pass\r\n",
        "manager_1 = Manager(\"Spencer\", \"Brown\", \"58\", \"Spanish\")\r\n",
        "manager_2 = Manager(\"Clark\", \"Kent\", \"62\", \"French\")\r\n",
        "manager_3 = Manager(\"Lana\", \"Archer\", \"48\", \"English\")\r\n",
        "\r\n",
        "my_dict = {\"Leadership\": {\"manager\": manager_1}}\r\n",
        "my_dict[\"Leadership\"][\"manager\"].print_language()"
      ],
      "execution_count": 15,
      "outputs": [
        {
          "output_type": "stream",
          "text": [
            "Spencer Brown speaks Spanish\n"
          ],
          "name": "stdout"
        }
      ]
    },
    {
      "cell_type": "code",
      "metadata": {
        "colab": {
          "base_uri": "https://localhost:8080/"
        },
        "id": "3XGHkdIGiTO7",
        "outputId": "d4ce26a9-f571-44c8-b8bc-cb0a0b98799d"
      },
      "source": [
        "class Intern(Staff):\r\n",
        "    pass\r\n",
        "intern_1 = Intern(\"John\", \"Moss\", \"27\", \"Swahili\")\r\n",
        "intern_2 = Intern(\"Susan\", \"Collins\", \"22\", \"English\")\r\n",
        "intern_3 = Intern(\"Rebecca\", \"Harlow\", \"21\", \"Telugu\")\r\n",
        "intern_4 = Intern(\"Ilkay\", \"Gundogan\", \"23\", \"Turkish and German\")\r\n",
        "intern_5 = Intern(\"Divock\", \"Origi\", \"20\", \"Mandarin\")\r\n",
        "\r\n",
        "my_dict_2 = {\"Support\": {\"intern\": intern_4}}\r\n",
        "my_dict_2[\"Support\"][\"intern\"].print_language()"
      ],
      "execution_count": 16,
      "outputs": [
        {
          "output_type": "stream",
          "text": [
            "Ilkay Gundogan speaks Turkish and German\n"
          ],
          "name": "stdout"
        }
      ]
    }
  ]
}
